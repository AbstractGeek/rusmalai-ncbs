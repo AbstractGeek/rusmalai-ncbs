{
 "cells": [
  {
   "cell_type": "code",
   "execution_count": 1,
   "metadata": {
    "collapsed": true,
    "deletable": true,
    "editable": true
   },
   "outputs": [],
   "source": [
    "import ANN\n",
    "import numpy as np\n",
    "import copy\n",
    "from collections import defaultdict as ddict"
   ]
  },
  {
   "cell_type": "code",
   "execution_count": 2,
   "metadata": {
    "collapsed": true
   },
   "outputs": [],
   "source": [
    "numNeurons = 100"
   ]
  },
  {
   "cell_type": "code",
   "execution_count": 20,
   "metadata": {
    "collapsed": false
   },
   "outputs": [],
   "source": [
    "class hopfield:\n",
    "    ''' This creates a Hopfield network class '''\n",
    "    def __init__(self, Input):\n",
    "        self.Input = Input\n",
    "        self.numNeurons = self.Input.shape[1]\n",
    "        self.neuronList = [hopfieldNeuron(1,i) for i in range(self.numNeurons)]\n",
    "        self.mapInputToNeurons(self.Input)\n",
    "        self.connections = ddict(list)\n",
    "        self.connect_neurons()\n",
    "        self.Output = copy.deepcopy(Input)\n",
    "        self.compute()\n",
    "    \n",
    "    def mapInputToNeurons(self, Input):\n",
    "        ''' Mapping of the inputs to different subsets of neurons'''\n",
    "        for index, neuron in enumerate(self.neuronList):\n",
    "            neuron.input = Input[:,index]\n",
    "        \n",
    "    def connect_neurons(self):\n",
    "        for i, neuron in enumerate(self.neuronList):\n",
    "            for j, neuron_2 in enumerate(self.neuronList, i+1):\n",
    "                self.connections[neuron].append((neuron_2, int(neuron.input*neuron_2.input)))\n",
    "                self.connections[neuron_2].append((neuron, int(neuron.input*neuron_2.input)))\n",
    "    \n",
    "    def compute(self, mode ='sync'):\n",
    "        if mode == 'sync':\n",
    "            for neuron in self.connections:\n",
    "                for neuron_in, weight in self.connections[neuron]:\n",
    "                    neuron.localField += weight*neuron_in.input\n",
    "                neuron.output = neuron.activation(neuron.localField)\n",
    "                \n",
    "class hopfieldNeuron(ANN.neuron):\n",
    "    def __init__(self, layer, index, activation_method='step'):\n",
    "        self.input = []\n",
    "        self.localField = 0\n",
    "        self.activation_method= activation_method\n"
   ]
  },
  {
   "cell_type": "code",
   "execution_count": 108,
   "metadata": {
    "collapsed": true
   },
   "outputs": [],
   "source": [
    "a = np.eye(5)"
   ]
  },
  {
   "cell_type": "code",
   "execution_count": 109,
   "metadata": {
    "collapsed": true
   },
   "outputs": [],
   "source": [
    "a = np.array([[-1,1,1,1,-1]])"
   ]
  },
  {
   "cell_type": "code",
   "execution_count": 110,
   "metadata": {
    "collapsed": false
   },
   "outputs": [],
   "source": [
    "hop = hopfield(a)"
   ]
  },
  {
   "cell_type": "code",
   "execution_count": 111,
   "metadata": {
    "collapsed": false
   },
   "outputs": [
    {
     "name": "stdout",
     "output_type": "stream",
     "text": [
      "[-1, 1, 1, 1, -1]\n"
     ]
    }
   ],
   "source": [
    "print [i.output for i in hop.neuronList]"
   ]
  },
  {
   "cell_type": "code",
   "execution_count": 112,
   "metadata": {
    "collapsed": true
   },
   "outputs": [],
   "source": [
    "a = np.array([[1,-1,-1,-1,1]])"
   ]
  },
  {
   "cell_type": "code",
   "execution_count": 113,
   "metadata": {
    "collapsed": false
   },
   "outputs": [],
   "source": [
    "hop.mapInputToNeurons(a)"
   ]
  },
  {
   "cell_type": "code",
   "execution_count": 114,
   "metadata": {
    "collapsed": true
   },
   "outputs": [],
   "source": [
    "hop.compute()"
   ]
  },
  {
   "cell_type": "code",
   "execution_count": 116,
   "metadata": {
    "collapsed": false
   },
   "outputs": [
    {
     "name": "stdout",
     "output_type": "stream",
     "text": [
      "[-1, -1, -1, -1, -1]\n"
     ]
    }
   ],
   "source": [
    "print [i.output for i in hop.neuronList]"
   ]
  },
  {
   "cell_type": "code",
   "execution_count": 117,
   "metadata": {
    "collapsed": true
   },
   "outputs": [],
   "source": [
    "hop.compute()"
   ]
  },
  {
   "cell_type": "code",
   "execution_count": 118,
   "metadata": {
    "collapsed": false
   },
   "outputs": [
    {
     "name": "stdout",
     "output_type": "stream",
     "text": [
      "[1, -1, -1, -1, 1]\n"
     ]
    }
   ],
   "source": [
    "print [i.output for i in hop.neuronList]"
   ]
  }
 ],
 "metadata": {
  "kernelspec": {
   "display_name": "Python 2",
   "language": "python",
   "name": "python2"
  },
  "language_info": {
   "codemirror_mode": {
    "name": "ipython",
    "version": 2
   },
   "file_extension": ".py",
   "mimetype": "text/x-python",
   "name": "python",
   "nbconvert_exporter": "python",
   "pygments_lexer": "ipython2",
   "version": "2.7.12"
  }
 },
 "nbformat": 4,
 "nbformat_minor": 2
}
