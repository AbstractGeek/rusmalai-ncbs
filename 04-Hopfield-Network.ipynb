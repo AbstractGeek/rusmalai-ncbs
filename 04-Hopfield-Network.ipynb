{
 "cells": [
  {
   "cell_type": "code",
   "execution_count": 1,
   "metadata": {
    "collapsed": true,
    "deletable": true,
    "editable": true
   },
   "outputs": [],
   "source": [
    "import ANN\n",
    "import numpy as np\n",
    "import copy\n",
    "from pprint import pprint\n",
    "from collections import defaultdict as ddict"
   ]
  },
  {
   "cell_type": "code",
   "execution_count": 2,
   "metadata": {
    "collapsed": true,
    "deletable": true,
    "editable": true
   },
   "outputs": [],
   "source": [
    "numNeurons = 100"
   ]
  },
  {
   "cell_type": "code",
   "execution_count": 3,
   "metadata": {
    "collapsed": false,
    "deletable": true,
    "editable": true
   },
   "outputs": [],
   "source": [
    "class hopfieldNetwork:\n",
    "    ''' This creates a Hopfield network class '''\n",
    "    def __init__(self, Input):\n",
    "        self.Input = Input\n",
    "        self.InputComplement = -1 * Input\n",
    "        self.numNeurons = self.Input.shape[1]\n",
    "        self.neuronList = [hopfieldNeuron(1,i) for i in range(self.numNeurons)]\n",
    "        self.mapInputToNeurons(self.Input)\n",
    "        self.connections = ddict(list)\n",
    "        self.connect_neurons()\n",
    "        self.compute()\n",
    "        \n",
    "    \n",
    "    def mapInputToNeurons(self, Input):\n",
    "        ''' Mapping of the inputs to different subsets of neurons'''\n",
    "        for index, neuron in enumerate(self.neuronList):\n",
    "            neuron.input = Input[:,index]\n",
    "        \n",
    "    def connect_neurons(self):\n",
    "        for i, neuron in enumerate(self.neuronList):\n",
    "            for j, neuron_2 in enumerate(self.neuronList, i+1):\n",
    "                self.connections[neuron].append((neuron_2, int(neuron.input*neuron_2.input)))\n",
    "                self.connections[neuron_2].append((neuron, int(neuron.input*neuron_2.input)))\n",
    "    \n",
    "    def compute(self, mode ='async'):\n",
    "        if mode == 'sync':\n",
    "            new_output = []\n",
    "            for neuron in self.connections:\n",
    "                for neuron_in, weight in self.connections[neuron]:\n",
    "                    neuron.localField += weight*neuron_in.input\n",
    "                neuron.output = neuron.activation(neuron.localField)\n",
    "                new_output.append(neuron.output)\n",
    "                neuron.localField = 0\n",
    "            \n",
    "            new_output = np.array([new_output])\n",
    "            self.mapInputToNeurons(new_output)\n",
    "            \n",
    "                \n",
    "        elif mode == 'async':\n",
    "            for neuron in self.connections:\n",
    "                for neuron_in, weight in self.connections[neuron]:\n",
    "                    neuron.localField += weight*neuron_in.input\n",
    "                neuron.output = neuron.activation(neuron.localField)\n",
    "                neuron.localField = 0\n",
    "                neuron.input = neuron.output\n",
    "            \n",
    "            new_output = np.array([[i.output for i in self.neuronList]])\n",
    "            \n",
    "        return new_output\n",
    "    \n",
    "    def runHopfieldNetwork(self, test, count=25):\n",
    "        hop.mapInputToNeurons(test)\n",
    "        curr_state = test\n",
    "        states = [curr_state]\n",
    "        \n",
    "        while not ((curr_state == self.Input).all() or\n",
    "                   (curr_state == self.InputComplement).all() or\n",
    "                  count == 0):            \n",
    "            curr_state = self.compute()\n",
    "            states.append(curr_state)\n",
    "            count -= 1\n",
    "            \n",
    "        return states\n",
    "                \n",
    "class hopfieldNeuron(ANN.neuron):\n",
    "    def __init__(self, layer, index, activation_method='step'):\n",
    "        self.input = []\n",
    "        self.localField = 0\n",
    "        self.activation_method= activation_method"
   ]
  },
  {
   "cell_type": "code",
   "execution_count": 4,
   "metadata": {
    "collapsed": true,
    "deletable": true,
    "editable": true
   },
   "outputs": [],
   "source": [
    "a = np.array([[-1,1,1,1,-1,1,-1,1]])"
   ]
  },
  {
   "cell_type": "code",
   "execution_count": 5,
   "metadata": {
    "collapsed": false,
    "deletable": true,
    "editable": true
   },
   "outputs": [],
   "source": [
    "hop = hopfieldNetwork(a)"
   ]
  },
  {
   "cell_type": "code",
   "execution_count": 6,
   "metadata": {
    "collapsed": false
   },
   "outputs": [
    {
     "name": "stdout",
     "output_type": "stream",
     "text": [
      "[array([[-1, -1,  1,  1,  1,  1,  1,  1]]),\n",
      " array([[-1,  1,  1,  1, -1,  1, -1,  1]])]\n"
     ]
    }
   ],
   "source": [
    "pprint(hop.runHopfieldNetwork(np.array([[-1,-1,1,1,1,1,1,1]])))"
   ]
  },
  {
   "cell_type": "markdown",
   "metadata": {},
   "source": [
    "## Let's memorize some digits!"
   ]
  },
  {
   "cell_type": "code",
   "execution_count": 7,
   "metadata": {
    "collapsed": true
   },
   "outputs": [],
   "source": [
    "from sklearn import datasets\n",
    "import matplotlib.pyplot as plt"
   ]
  },
  {
   "cell_type": "code",
   "execution_count": 8,
   "metadata": {
    "collapsed": false
   },
   "outputs": [],
   "source": [
    "#Load the digits dataset\n",
    "digits = datasets.load_digits()"
   ]
  },
  {
   "cell_type": "code",
   "execution_count": 9,
   "metadata": {
    "collapsed": false
   },
   "outputs": [],
   "source": [
    "# Binarize the dataset\n",
    "for digit_im, digit_data in zip(digits['images'], digits['data']):\n",
    "    digit_im[digit_im>0] = 1\n",
    "    digit_data[digit_data>0] = 1\n",
    "    digit_data[digit_data==0] = -1"
   ]
  },
  {
   "cell_type": "code",
   "execution_count": 10,
   "metadata": {
    "collapsed": false
   },
   "outputs": [
    {
     "data": {
      "image/png": "[encoded data removed]",
      "text/plain": [
       "<matplotlib.figure.Figure at 0x7f23683bc358>"
      ]
     },
     "metadata": {},
     "output_type": "display_data"
    }
   ],
   "source": [
    "#Display the first digit\n",
    "plt.figure(1, figsize=(3, 3))\n",
    "plt.imshow(digits.images[0], cmap=plt.cm.gray_r, interpolation='nearest')\n",
    "plt.show()"
   ]
  },
  {
   "cell_type": "code",
   "execution_count": 11,
   "metadata": {
    "collapsed": false,
    "deletable": true,
    "editable": true
   },
   "outputs": [],
   "source": [
    "hop = hopfieldNetwork(np.matrix(digits.data[0]))"
   ]
  },
  {
   "cell_type": "code",
   "execution_count": 12,
   "metadata": {
    "collapsed": false
   },
   "outputs": [
    {
     "name": "stdout",
     "output_type": "stream",
     "text": [
      "[-1. -1.  1.  1.  1.  1. -1. -1. -1. -1.  1.  1.  1.  1.  1. -1. -1.  1.\n",
      "  1.  1. -1.  1.  1. -1. -1.  1.  1. -1. -1.  1.  1. -1. -1.  1.  1. -1.\n",
      " -1.  1.  1. -1. -1.  1.  1. -1.  1.  1.  1. -1. -1.  1.  1.  1.  1.  1.\n",
      " -1. -1. -1. -1.  1.  1.  1. -1. -1. -1.]\n"
     ]
    }
   ],
   "source": [
    "print(digits.data[0])"
   ]
  },
  {
   "cell_type": "code",
   "execution_count": 13,
   "metadata": {
    "collapsed": false,
    "deletable": true,
    "editable": true
   },
   "outputs": [
    {
     "name": "stdout",
     "output_type": "stream",
     "text": [
      "[-1, -1, 1, 1, 1, 1, -1, -1, -1, -1, 1, 1, 1, 1, 1, -1, -1, 1, 1, 1, -1, 1, 1, -1, -1, 1, 1, -1, -1, 1, 1, -1, -1, 1, 1, -1, -1, 1, 1, -1, -1, 1, 1, -1, 1, 1, 1, -1, -1, 1, 1, 1, 1, 1, -1, -1, -1, -1, 1, 1, 1, -1, -1, -1]\n"
     ]
    }
   ],
   "source": [
    "print([i.output for i in hop.neuronList])"
   ]
  },
  {
   "cell_type": "code",
   "execution_count": 14,
   "metadata": {
    "collapsed": false
   },
   "outputs": [],
   "source": [
    "output = np.array([i.output for i in hop.neuronList])\n",
    "image_out = output.reshape((8,8))"
   ]
  },
  {
   "cell_type": "code",
   "execution_count": 15,
   "metadata": {
    "collapsed": false
   },
   "outputs": [
    {
     "data": {
      "image/png": "[encoded data removed]",
      "text/plain": [
       "<matplotlib.figure.Figure at 0x7f23683bc240>"
      ]
     },
     "metadata": {},
     "output_type": "display_data"
    }
   ],
   "source": [
    "#Display the first digit\n",
    "plt.figure(1, figsize=(3, 3))\n",
    "plt.imshow(image_out, cmap=plt.cm.gray_r, interpolation='nearest')\n",
    "plt.show()"
   ]
  },
  {
   "cell_type": "code",
   "execution_count": 16,
   "metadata": {
    "collapsed": false,
    "deletable": true,
    "editable": true
   },
   "outputs": [],
   "source": [
    "output[3:6] = -1\n",
    "image_out = output.reshape((8,8))"
   ]
  },
  {
   "cell_type": "code",
   "execution_count": 17,
   "metadata": {
    "collapsed": false
   },
   "outputs": [
    {
     "data": {
      "image/png": "[encoded data removed]",
      "text/plain": [
       "<matplotlib.figure.Figure at 0x7f2368272ac8>"
      ]
     },
     "metadata": {},
     "output_type": "display_data"
    }
   ],
   "source": [
    "#Display the first digit\n",
    "plt.figure(1, figsize=(3, 3))\n",
    "plt.imshow(image_out, cmap=plt.cm.gray_r, interpolation='nearest')\n",
    "plt.show()"
   ]
  },
  {
   "cell_type": "code",
   "execution_count": 18,
   "metadata": {
    "collapsed": false,
    "deletable": true,
    "editable": true
   },
   "outputs": [],
   "source": [
    "hop.mapInputToNeurons(np.matrix(output))"
   ]
  },
  {
   "cell_type": "code",
   "execution_count": 19,
   "metadata": {
    "collapsed": false,
    "deletable": true,
    "editable": true
   },
   "outputs": [
    {
     "data": {
      "text/plain": [
       "array([[-1, -1,  1,  1,  1,  1, -1, -1, -1, -1,  1,  1,  1,  1,  1, -1, -1,\n",
       "         1,  1,  1, -1,  1,  1, -1, -1,  1,  1, -1, -1,  1,  1, -1, -1,  1,\n",
       "         1, -1, -1,  1,  1, -1, -1,  1,  1, -1,  1,  1,  1, -1, -1,  1,  1,\n",
       "         1,  1,  1, -1, -1, -1, -1,  1,  1,  1, -1, -1, -1]])"
      ]
     },
     "execution_count": 19,
     "metadata": {},
     "output_type": "execute_result"
    }
   ],
   "source": [
    "hop.compute()"
   ]
  },
  {
   "cell_type": "code",
   "execution_count": 20,
   "metadata": {
    "collapsed": true
   },
   "outputs": [],
   "source": [
    "output = np.array([i.output for i in hop.neuronList])\n",
    "image_out = output.reshape((8,8))"
   ]
  },
  {
   "cell_type": "code",
   "execution_count": 21,
   "metadata": {
    "collapsed": false,
    "deletable": true,
    "editable": true
   },
   "outputs": [
    {
     "data": {
      "image/png": "[encoded data removed]",
      "text/plain": [
       "<matplotlib.figure.Figure at 0x7f23681b5668>"
      ]
     },
     "metadata": {},
     "output_type": "display_data"
    }
   ],
   "source": [
    "#Display the first digit\n",
    "plt.figure(1, figsize=(3, 3))\n",
    "plt.imshow(image_out, cmap=plt.cm.gray_r, interpolation='nearest')\n",
    "plt.show()"
   ]
  },
  {
   "cell_type": "code",
   "execution_count": 22,
   "metadata": {
    "collapsed": false
   },
   "outputs": [
    {
     "data": {
      "text/plain": [
       "array([[ 1, -1, -1, -1,  1, -1,  1, -1]])"
      ]
     },
     "execution_count": 22,
     "metadata": {},
     "output_type": "execute_result"
    }
   ],
   "source": [
    "a * -1"
   ]
  },
  {
   "cell_type": "markdown",
   "metadata": {},
   "source": [
    "## Let's Visualize the state changes"
   ]
  },
  {
   "cell_type": "code",
   "execution_count": 23,
   "metadata": {
    "collapsed": false
   },
   "outputs": [
    {
     "name": "stdout",
     "output_type": "stream",
     "text": [
      "[matrix([[-1., -1., -1., -1., -1., -1., -1., -1., -1., -1., -1., -1., -1.,\n",
      "         -1., -1., -1., -1., -1., -1., -1., -1., -1., -1., -1., -1., -1.,\n",
      "         -1., -1., -1., -1., -1., -1., -1.,  1.,  1., -1., -1.,  1.,  1.,\n",
      "         -1., -1.,  1.,  1., -1.,  1.,  1.,  1., -1., -1.,  1.,  1.,  1.,\n",
      "          1.,  1., -1., -1., -1., -1.,  1.,  1.,  1., -1., -1., -1.]]),\n",
      " array([[-1, -1,  1,  1,  1,  1, -1, -1, -1, -1,  1,  1,  1,  1,  1, -1, -1,\n",
      "         1,  1,  1, -1,  1,  1, -1, -1,  1,  1, -1, -1,  1,  1, -1, -1,  1,\n",
      "         1, -1, -1,  1,  1, -1, -1,  1,  1, -1,  1,  1,  1, -1, -1,  1,  1,\n",
      "         1,  1,  1, -1, -1, -1, -1,  1,  1,  1, -1, -1, -1]])]\n"
     ]
    }
   ],
   "source": [
    "start_image = np.matrix(digits.data[0])\n",
    "perturb_image = copy.deepcopy(digits.data[0])\n",
    "perturb_image[0:32] = -1\n",
    "\n",
    "\n",
    "hop = hopfieldNetwork(start_image)\n",
    "states = hop.runHopfieldNetwork( np.matrix(perturb_image))\n",
    "pprint(states)\n",
    "\n",
    "image_out = states[0].reshape(8,8)"
   ]
  },
  {
   "cell_type": "code",
   "execution_count": 24,
   "metadata": {
    "collapsed": false
   },
   "outputs": [
    {
     "data": {
      "image/png": "[encoded data removed]",
      "text/plain": [
       "<matplotlib.figure.Figure at 0x7f236819d898>"
      ]
     },
     "metadata": {},
     "output_type": "display_data"
    }
   ],
   "source": [
    "from IPython import display\n",
    "plt.ion()\n",
    "\n",
    "f, ax = plt.subplots(1,1)\n",
    "im = ax.imshow(states[0].reshape(8,8), cmap=plt.cm.gray_r, interpolation = 'nearest')\n",
    "\n",
    "f.colorbar(im)\n",
    "f.canvas.draw()\n",
    "\n",
    "for i in range(len(states)):  \n",
    "    try:\n",
    "        im.set_data(states[i].reshape(8,8)) \n",
    "        f.canvas.draw()\n",
    "        display.display(f)\n",
    "        display.clear_output(wait=True) \n",
    "        plt.pause(0.1)\n",
    "\n",
    "    except KeyboardInterrupt:\n",
    "        break\n",
    "plt.ioff()\n",
    "plt.close()"
   ]
  },
  {
   "cell_type": "code",
   "execution_count": 25,
   "metadata": {
    "collapsed": false
   },
   "outputs": [
    {
     "data": {
      "image/png": "[encoded data removed]",
      "text/plain": [
       "<matplotlib.figure.Figure at 0x7f236834a8d0>"
      ]
     },
     "metadata": {},
     "output_type": "display_data"
    }
   ],
   "source": [
    "plt.ion()\n",
    "\n",
    "f = plt.figure(1, figsize=(3, 3))\n",
    "im = plt.imshow(start_image.reshape((8,8)), cmap=plt.cm.gray_r, interpolation='nearest')\n",
    "plt.show()\n"
   ]
  }
 ],
 "metadata": {
  "kernelspec": {
   "display_name": "Python 3",
   "language": "python",
   "name": "python3"
  },
  "language_info": {
   "codemirror_mode": {
    "name": "ipython",
    "version": 3
   },
   "file_extension": ".py",
   "mimetype": "text/x-python",
   "name": "python",
   "nbconvert_exporter": "python",
   "pygments_lexer": "ipython3",
   "version": "3.5.2"
  }
 },
 "nbformat": 4,
 "nbformat_minor": 2
}
