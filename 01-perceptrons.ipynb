{
 "cells": [
  {
   "cell_type": "markdown",
   "metadata": {},
   "source": [
    "# Perceptrons"
   ]
  },
  {
   "cell_type": "code",
   "execution_count": 30,
   "metadata": {
    "collapsed": true
   },
   "outputs": [],
   "source": [
    "# Import libraries\n",
    "%matplotlib inline\n",
    "from sklearn import datasets\n",
    "import matplotlib.pyplot as plt\n",
    "import numpy as np"
   ]
  },
  {
   "cell_type": "code",
   "execution_count": 31,
   "metadata": {
    "collapsed": false
   },
   "outputs": [],
   "source": [
    "# import some data to play with\n",
    "iris = datasets.load_iris()\n",
    "X = iris.data[:100,:2]  # we only take the first two features.\n",
    "Y = iris.target[:100]"
   ]
  },
  {
   "cell_type": "markdown",
   "metadata": {},
   "source": [
    "### Line separating the features. Change this to get lines separating the features"
   ]
  },
  {
   "cell_type": "code",
   "execution_count": 34,
   "metadata": {
    "collapsed": true
   },
   "outputs": [],
   "source": [
    "# Line parameters\n",
    "m = 1.1 # Slope\n",
    "c = -2.75  # Intercept\n",
    "\n",
    "# Creating line\n",
    "x1 = np.linspace(np.min(X[:,0]), np.max(X[:,0]), 100)\n",
    "y1 = m*x1 + c"
   ]
  },
  {
   "cell_type": "markdown",
   "metadata": {},
   "source": [
    "### Let's plot this!"
   ]
  },
  {
   "cell_type": "code",
   "execution_count": 35,
   "metadata": {
    "collapsed": false
   },
   "outputs": [
    {
     "data": {
      "text/plain": [
       "<matplotlib.text.Text at 0x7fe54d593f10>"
      ]
     },
     "execution_count": 35,
     "metadata": {},
     "output_type": "execute_result"
    },
    {
     "data": {
      "image/png": "[encoded data removed]",
      "text/plain": [
       "<matplotlib.figure.Figure at 0x7fe54d577cd0>"
      ]
     },
     "metadata": {},
     "output_type": "display_data"
    }
   ],
   "source": [
    "plt.figure(2, figsize=(8, 6))\n",
    "plt.clf()\n",
    "\n",
    "# Plot the training points\n",
    "plt.scatter(X[:, 0], X[:, 1], c=Y, cmap=plt.cm.Paired)\n",
    "plt.plot(x1,y1)\n",
    "plt.xlabel('Sepal length')\n",
    "plt.ylabel('Sepal width')"
   ]
  },
  {
   "cell_type": "code",
   "execution_count": 36,
   "metadata": {
    "collapsed": false
   },
   "outputs": [],
   "source": [
    "# Create perceptron\n",
    "threshold = 1\n",
    "\n",
    "# Get weights using the line equations from above\n",
    "w2 = threshold / c\n",
    "w1 = -1 * w2 * m\n",
    "\n",
    "# Perceptron calculation\n",
    "plant_class = ((X[:,0] * w1 + X[:,1] * w2) > threshold) + 0\n",
    "\n",
    "# Compare\n",
    "correctly_classified = np.all(plant_class == Y)\n"
   ]
  },
  {
   "cell_type": "code",
   "execution_count": 37,
   "metadata": {
    "collapsed": false
   },
   "outputs": [
    {
     "data": {
      "text/plain": [
       "True"
      ]
     },
     "execution_count": 37,
     "metadata": {},
     "output_type": "execute_result"
    }
   ],
   "source": [
    "correctly_classified"
   ]
  },
  {
   "cell_type": "markdown",
   "metadata": {},
   "source": [
    "### A real perceptron"
   ]
  },
  {
   "cell_type": "code",
   "execution_count": 38,
   "metadata": {
    "collapsed": false
   },
   "outputs": [
    {
     "name": "stdout",
     "output_type": "stream",
     "text": [
      "[0 0]: 0.227399965745 -> 0\n",
      "[0 1]: 0.704595758278 -> 1\n",
      "[1 0]: 0.325934901387 -> 1\n",
      "[1 1]: 0.80313069392 -> 1\n"
     ]
    }
   ],
   "source": [
    "from random import choice\n",
    "from numpy import array, dot, random\n",
    "\n",
    "def unit_step(x,theta):\n",
    "    ''' This is our activation function. '''\n",
    "    fx = 0\n",
    "    if x < theta:\n",
    "        fx= 0\n",
    "    else:\n",
    "        fx= 1\n",
    "    return fx\n",
    "\n",
    "training_data = [\n",
    "    array([0,0,1]),\n",
    "    array([0,1,1]),\n",
    "    array([1,0,1]),\n",
    "    array([1,1,1]),\n",
    "]\n",
    "\n",
    "target = [0,1,1,1]\n",
    "\n",
    "w = random.rand(3) # Initializing weights randomly.\n",
    "errors = []\n",
    "eta = 0.2 # Learning rate\n",
    "n = 100 # Number of iterations\n",
    "theta = 0.25 # Threshold\n",
    "\n",
    "for i in range(n):\n",
    "    x, expected = choice(list(zip(training_data,target)))\n",
    "    result = dot(w, x)\n",
    "    error = expected - unit_step(result,theta)\n",
    "    errors.append(error)\n",
    "    w += eta * error * x\n",
    "\n",
    "for x, _ in zip(training_data,target):\n",
    "    result = dot(x, w)\n",
    "    print(\"{}: {} -> {}\".format(x[:2], result, unit_step(result,theta)))\n",
    "    "
   ]
  },
  {
   "cell_type": "code",
   "execution_count": 25,
   "metadata": {
    "collapsed": false
   },
   "outputs": [
    {
     "data": {
      "text/plain": [
       "[<matplotlib.lines.Line2D at 0x7fe54d02e9d0>]"
      ]
     },
     "execution_count": 25,
     "metadata": {},
     "output_type": "execute_result"
    },
    {
     "data": {
      "image/png": "[encoded data removed]",
      "text/plain": [
       "<matplotlib.figure.Figure at 0x7fe54d11d890>"
      ]
     },
     "metadata": {},
     "output_type": "display_data"
    }
   ],
   "source": [
    "from pylab import plot, ylim\n",
    "ylim([-1,1])\n",
    "plot(errors)"
   ]
  },
  {
   "cell_type": "code",
   "execution_count": 26,
   "metadata": {
    "collapsed": false
   },
   "outputs": [
    {
     "data": {
      "text/plain": [
       "(0, 1)"
      ]
     },
     "execution_count": 26,
     "metadata": {},
     "output_type": "execute_result"
    },
    {
     "data": {
      "image/png": "[encoded data removed]",
      "text/plain": [
       "<matplotlib.figure.Figure at 0x7fe5676d86d0>"
      ]
     },
     "metadata": {},
     "output_type": "display_data"
    }
   ],
   "source": [
    "k = np.linspace(0,1,100)\n",
    "plt.plot(k,-(w[0]/w[1])*k + theta/w[1] - w[2]/w[1])\n",
    "plt.xlim((0,1))\n",
    "plt.ylim((0,1))"
   ]
  },
  {
   "cell_type": "markdown",
   "metadata": {},
   "source": [
    "### Let's use it for Iris!"
   ]
  },
  {
   "cell_type": "code",
   "execution_count": 39,
   "metadata": {
    "collapsed": false
   },
   "outputs": [
    {
     "name": "stdout",
     "output_type": "stream",
     "text": [
      "[ 5.1  3.5]: -14.3926566688 -> 0\n",
      "[ 4.9  3. ]: -7.50863963457 -> 0\n",
      "[ 4.7  3.2]: -14.6948907479 -> 0\n",
      "[ 4.6  3.1]: -14.267939691 -> 0\n",
      "[ 5.   3.6]: -17.9857822255 -> 0\n",
      "[ 5.4  3.9]: -17.6835481464 -> 0\n",
      "[ 4.6  3.4]: -20.2980546114 -> 0\n",
      "[ 5.   3.4]: -13.9657056119 -> 0\n",
      "[ 4.4  2.9]: -13.4140375771 -> 0\n",
      "[ 4.9  3.1]: -9.51867794137 -> 0\n",
      "[ 5.4  3.7]: -13.6634715328 -> 0\n",
      "[ 4.8  3.4]: -17.1318801116 -> 0\n",
      "[ 4.8  3. ]: -9.09172688445 -> 0\n",
      "[ 4.3  3. ]: -17.0071631338 -> 0\n",
      "[ 5.8  4. ]: -13.3612374537 -> 0\n",
      "[ 5.7  4.4]: -22.9844779307 -> 0\n",
      "[ 5.4  3.9]: -17.6835481464 -> 0\n",
      "[ 5.1  3.5]: -14.3926566688 -> 0\n",
      "[ 5.7  3.8]: -10.92424809 -> 0\n",
      "[ 5.1  3.8]: -20.4227715892 -> 0\n",
      "[ 5.4  3.4]: -7.63335661239 -> 0\n",
      "[ 5.1  3.7]: -18.4127332824 -> 0\n",
      "[ 4.6  3.6]: -24.318131225 -> 0\n",
      "[ 5.1  3.3]: -10.3725800552 -> 0\n",
      "[ 4.8  3.4]: -17.1318801116 -> 0\n",
      "[ 5.  3.]: -5.9255523847 -> 0\n",
      "[ 5.   3.4]: -13.9657056119 -> 0\n",
      "[ 5.2  3.5]: -12.8095694189 -> 0\n",
      "[ 5.2  3.4]: -10.7995311121 -> 0\n",
      "[ 4.7  3.2]: -14.6948907479 -> 0\n",
      "[ 4.8  3.1]: -11.1017651912 -> 0\n",
      "[ 5.4  3.4]: -7.63335661239 -> 0\n",
      "[ 5.2  4.1]: -24.8697992597 -> 0\n",
      "[ 5.5  4.2]: -22.1305758169 -> 0\n",
      "[ 4.9  3.1]: -9.51867794137 -> 0\n",
      "[ 5.   3.2]: -9.94562899829 -> 0\n",
      "[ 5.5  3.5]: -8.06030766931 -> 0\n",
      "[ 4.9  3.1]: -9.51867794137 -> 0\n",
      "[ 4.4  3. ]: -15.4240758839 -> 0\n",
      "[ 5.1  3.4]: -12.382618362 -> 0\n",
      "[ 5.   3.5]: -15.9757439187 -> 0\n",
      "[ 4.5  2.3]: 0.229279513512 -> 0\n",
      "[ 4.4  3.2]: -19.4441524975 -> 0\n",
      "[ 5.   3.5]: -15.9757439187 -> 0\n",
      "[ 5.1  3.8]: -20.4227715892 -> 0\n",
      "[ 4.8  3. ]: -9.09172688445 -> 0\n",
      "[ 5.1  3.8]: -20.4227715892 -> 0\n",
      "[ 4.6  3.2]: -16.2779779978 -> 0\n",
      "[ 5.3  3.7]: -15.2465587827 -> 0\n",
      "[ 5.   3.3]: -11.9556673051 -> 0\n",
      "[ 7.   3.2]: 21.7161159992 -> 1\n",
      "[ 6.4  3.2]: 12.2175925 -> 1\n",
      "[ 6.9  3.1]: 22.1430670561 -> 1\n",
      "[ 5.5  2.3]: 16.0601520123 -> 1\n",
      "[ 6.5  2.8]: 21.840832977 -> 1\n",
      "[ 5.7  2.8]: 9.17613497802 -> 1\n",
      "[ 6.3  3.3]: 8.62446694329 -> 1\n",
      "[ 4.9  2.4]: 4.55159020621 -> 1\n",
      "[ 6.6  2.9]: 21.4138819201 -> 1\n",
      "[ 5.2  2.7]: 3.27073703545 -> 1\n",
      "[ 5.  2.]: 14.1748306833 -> 1\n",
      "[ 5.9  3. ]: 8.32223286418 -> 1\n",
      "[ 6.   2.2]: 25.9856265684 -> 1\n",
      "[ 6.1  2.9]: 13.4984456707 -> 1\n",
      "[ 5.6  2.9]: 5.58300942135 -> 1\n",
      "[ 6.7  3.1]: 18.9768925564 -> 1\n",
      "[ 5.6  3. ]: 3.57297111455 -> 1\n",
      "[ 5.8  2.7]: 12.7692605347 -> 1\n",
      "[ 6.2  2.2]: 29.1518010682 -> 1\n",
      "[ 5.6  2.5]: 13.6231626485 -> 1\n",
      "[ 5.9  3.2]: 4.30215625058 -> 1\n",
      "[ 6.1  2.8]: 15.5084839775 -> 1\n",
      "[ 6.3  2.5]: 24.7047733977 -> 1\n",
      "[ 6.1  2.8]: 15.5084839775 -> 1\n",
      "[ 6.4  2.9]: 18.2477074204 -> 1\n",
      "[ 6.6  3. ]: 19.4038436133 -> 1\n",
      "[ 6.8  2.8]: 26.5900947266 -> 1\n",
      "[ 6.7  3. ]: 20.9869308632 -> 1\n",
      "[ 6.   2.9]: 11.9153584209 -> 1\n",
      "[ 5.7  2.6]: 13.1962115916 -> 1\n",
      "[ 5.5  2.4]: 14.0501137055 -> 1\n",
      "[ 5.5  2.4]: 14.0501137055 -> 1\n",
      "[ 5.8  2.7]: 12.7692605347 -> 1\n",
      "[ 6.   2.7]: 15.9354350344 -> 1\n",
      "[ 5.4  3. ]: 0.406796614803 -> 1\n",
      "[ 6.   3.4]: 1.86516688686 -> 1\n",
      "[ 6.7  3.1]: 18.9768925564 -> 1\n",
      "[ 6.3  2.3]: 28.7248500113 -> 1\n",
      "[ 5.6  3. ]: 3.57297111455 -> 1\n",
      "[ 5.5  2.5]: 12.0400753987 -> 1\n",
      "[ 5.5  2.6]: 10.0300370919 -> 1\n",
      "[ 6.1  3. ]: 11.4884073639 -> 1\n",
      "[ 5.8  2.6]: 14.7792988415 -> 1\n",
      "[ 5.   2.3]: 8.14471576289 -> 1\n",
      "[ 5.6  2.7]: 9.60308603495 -> 1\n",
      "[ 5.7  3. ]: 5.15605836443 -> 1\n",
      "[ 5.7  2.9]: 7.16609667123 -> 1\n",
      "[ 6.2  2.9]: 15.0815329206 -> 1\n",
      "[ 5.1  2.5]: 5.70772639917 -> 1\n",
      "[ 5.7  2.8]: 9.17613497802 -> 1\n"
     ]
    }
   ],
   "source": [
    "import itertools\n",
    "training_data = X\n",
    "\n",
    "training_data = [np.append(x,[1]) for x in training_data]\n",
    "target = Y\n",
    "w = random.rand(3) # Initializing weights randomly.\n",
    "errors = []\n",
    "eta = 0.2 # Learning rate\n",
    "n = 100000 # Number of iterations\n",
    "theta = 0.25 # Threshold\n",
    "\n",
    "data = itertools.cycle(zip(training_data,target))\n",
    "\n",
    "for i in range(n):\n",
    "    x, expected = next(data)    \n",
    "    result = dot(w, x)\n",
    "    error = expected - unit_step(result,theta)\n",
    "    errors.append(error)\n",
    "    w += eta * error * x\n",
    "\n",
    "for x, _ in zip(training_data,target):\n",
    "    result = dot(x, w)\n",
    "    print(\"{}: {} -> {}\".format(x[:2], result, unit_step(result,theta)))"
   ]
  },
  {
   "cell_type": "code",
   "execution_count": 40,
   "metadata": {
    "collapsed": false
   },
   "outputs": [
    {
     "data": {
      "text/plain": [
       "<matplotlib.text.Text at 0x7fe54d51bd90>"
      ]
     },
     "execution_count": 40,
     "metadata": {},
     "output_type": "execute_result"
    },
    {
     "data": {
      "image/png": "[encoded data removed]",
      "text/plain": [
       "<matplotlib.figure.Figure at 0x7fe54d53a710>"
      ]
     },
     "metadata": {},
     "output_type": "display_data"
    }
   ],
   "source": [
    "plt.scatter(X[:, 0], X[:, 1], c=Y, cmap=plt.cm.Paired)\n",
    "plt.plot(X[:,0],-(w[0]/w[1])*X[:,0] + theta/w[1] - w[2]/w[1])\n",
    "plt.xlabel('Sepal length')\n",
    "plt.ylabel('Sepal width')\n"
   ]
  },
  {
   "cell_type": "code",
   "execution_count": 41,
   "metadata": {
    "collapsed": false
   },
   "outputs": [
    {
     "data": {
      "text/plain": [
       "[<matplotlib.lines.Line2D at 0x7fe54cd1b190>]"
      ]
     },
     "execution_count": 41,
     "metadata": {},
     "output_type": "execute_result"
    },
    {
     "data": {
      "image/png": "[encoded data removed]",
      "text/plain": [
       "<matplotlib.figure.Figure at 0x7fe54d4b14d0>"
      ]
     },
     "metadata": {},
     "output_type": "display_data"
    }
   ],
   "source": [
    "from pylab import plot, ylim\n",
    "ylim([-1,1])\n",
    "plot(errors)"
   ]
  },
  {
   "cell_type": "code",
   "execution_count": 42,
   "metadata": {
    "collapsed": false
   },
   "outputs": [
    {
     "data": {
      "text/plain": [
       "True"
      ]
     },
     "execution_count": 42,
     "metadata": {},
     "output_type": "execute_result"
    }
   ],
   "source": [
    "# Perceptron calculation\n",
    "plant_class = ((X[:,0] * w[0] + X[:,1] * w[1] + w[2]) > theta) + 0\n",
    "\n",
    "# Compare\n",
    "correctly_classified = np.all(plant_class == Y)\n",
    "correctly_classified\n",
    "    "
   ]
  },
  {
   "cell_type": "code",
   "execution_count": 43,
   "metadata": {
    "collapsed": false
   },
   "outputs": [
    {
     "data": {
      "text/plain": [
       "0.7875905869660299"
      ]
     },
     "execution_count": 43,
     "metadata": {},
     "output_type": "execute_result"
    }
   ],
   "source": [
    "-(w[0]/w[1])"
   ]
  },
  {
   "cell_type": "code",
   "execution_count": 44,
   "metadata": {
    "collapsed": false
   },
   "outputs": [
    {
     "data": {
      "text/plain": [
       "-1.2451884916755898"
      ]
     },
     "execution_count": 44,
     "metadata": {},
     "output_type": "execute_result"
    }
   ],
   "source": [
    " theta/w[1] - w[2]/w[1]"
   ]
  },
  {
   "cell_type": "code",
   "execution_count": null,
   "metadata": {
    "collapsed": true
   },
   "outputs": [],
   "source": []
  }
 ],
 "metadata": {
  "kernelspec": {
   "display_name": "Python 2",
   "language": "python",
   "name": "python2"
  },
  "language_info": {
   "codemirror_mode": {
    "name": "ipython",
    "version": 2
   },
   "file_extension": ".py",
   "mimetype": "text/x-python",
   "name": "python",
   "nbconvert_exporter": "python",
   "pygments_lexer": "ipython2",
   "version": "2.7.12"
  }
 },
 "nbformat": 4,
 "nbformat_minor": 1
}
