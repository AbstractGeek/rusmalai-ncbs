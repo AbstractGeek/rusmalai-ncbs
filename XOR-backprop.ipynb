{
 "cells": [
  {
   "cell_type": "code",
   "execution_count": 4,
   "metadata": {
    "collapsed": false
   },
   "outputs": [],
   "source": [
    "# Import libraries\n",
    "%matplotlib inline\n",
    "from sklearn import datasets\n",
    "import matplotlib.pyplot as plt\n",
    "import numpy as np\n",
    "\n",
    "training_data = [\n",
    "    np.array([0,0,1]),\n",
    "    np.array([0,1,1]),\n",
    "    np.array([1,0,1]),\n",
    "    np.array([1,1,1]),\n",
    "]\n",
    "\n",
    "target = [0,1,1,0]\n",
    "\n",
    "w = np.random.rand(3) # Initializing weights randomly.\n",
    "errors = []\n",
    "eta = 0.2 # Learning rate\n",
    "n = 100 # Number of iterations"
   ]
  },
  {
   "cell_type": "code",
   "execution_count": 118,
   "metadata": {
    "collapsed": false
   },
   "outputs": [],
   "source": [
    "class ANN:\n",
    "    ''' This is an artificial neural network'''\n",
    "    def __init__(self, numLayers, Input, hiddenNeuronList=[]):\n",
    "        self.numLayers = numLayers\n",
    "        self.numHiddenLayers = numLayers - 2\n",
    "        \n",
    "        if not len(hiddenNeuronList):\n",
    "            self.hiddenNeuronList = [len(Input)]*self.numHiddenLayers ## Should be changed later to something more general\n",
    "        else:\n",
    "            self.hiddenNeuronList = hiddenNeuronList\n",
    "            \n",
    "        self.construct_network(Input)\n",
    "        self.connect_layers()\n",
    "            \n",
    "    def construct_network(self,Input):\n",
    "        # Input layer Stuff\n",
    "        self.input_layer = input_layer(Input)\n",
    "        \n",
    "        # Create Hidden Layers\n",
    "        self.hidden_layers = [hidden_layer(self.hiddenNeuronList[i]) for i in range(self.numHiddenLayers)]\n",
    "        \n",
    "        # Create output layer\n",
    "        self.output_layer = output_layer(1)\n",
    "\n",
    "    def connect_layers(self):\n",
    "        '''Connect layers'''\n",
    "        # Input layer\n",
    "        self.hidden_layers[0].connect_layer(self.input_layer)\n",
    "        # Hidden layers\n",
    "        for n in range(self.numHiddenLayers-1):\n",
    "            self.hidden_layers[n+1].connect_layer(self.hidden_layers[n])\n",
    "        # Output layer\n",
    "        self.output_layer.connect_layer(self.hidden_layers[-1])\n",
    "        \n",
    "class neuron_layer:\n",
    "    ''' This is a neural network layer'''\n",
    "\n",
    "    def __init__(self, N):\n",
    "        self.N = N\n",
    "        self.neurons = [neuron() for i in range(N)]\n",
    "\n",
    "    def connect_layer(self, prev_layer):\n",
    "        self.prev_layer = prev_layer\n",
    "        prev_layer.set_next_layer(self)\n",
    "        numEdges = prev_layer.N * self.N\n",
    "        for n in self.neurons:\n",
    "            n.initialize_weights(prev_layer.N)\n",
    "        \n",
    "    def compute_layer(self):\n",
    "        y = []\n",
    "        for n in self.neurons:\n",
    "            y.append(n.compute(self.prev_layer.output))\n",
    "        self.output = y\n",
    "        return self.output\n",
    "    \n",
    "    def backpropagate():\n",
    "        pass\n",
    "\n",
    "class input_layer(neuron_layer):\n",
    "    ''' This is the input layer'''\n",
    "\n",
    "    def __init__(self, Input):\n",
    "        self.N = len(Input)\n",
    "        self.output = self.compute_layer(Input)\n",
    "    \n",
    "    def compute_layer(self,x):\n",
    "        return x\n",
    "    \n",
    "    def set_next_layer(self, next_layer):\n",
    "        self.next_layer = next_layer\n",
    "\n",
    "class hidden_layer(neuron_layer):\n",
    "    def set_next_layer(self, next_layer):\n",
    "        self.next_layer = next_layer\n",
    "            \n",
    "class output_layer(neuron_layer):\n",
    "    pass\n",
    "\n",
    "class neuron:\n",
    "    '''Units inside a layer'''\n",
    "    \n",
    "    def __init__(self):\n",
    "        pass\n",
    "    \n",
    "    def initialize_weights(self, numInputs):\n",
    "        self.w = np.random.uniform(-1,1,numInputs)\n",
    "        #self.w = np.zeros(numInputs) # Just for kicks\n",
    "    def sigmoid(x):\n",
    "        ''' This is our activation function. '''    \n",
    "        return 1/(1+np.exp(-x))\n",
    "    def compute(self,x):\n",
    "        return sigmoid(np.dot(self.w,x))  "
   ]
  },
  {
   "cell_type": "code",
   "execution_count": 105,
   "metadata": {
    "collapsed": false
   },
   "outputs": [
    {
     "ename": "AttributeError",
     "evalue": "'neuron_layer' object has no attribute 'set_next_layer'",
     "output_type": "error",
     "traceback": [
      "\u001b[0;31m---------------------------------------------------------------------------\u001b[0m",
      "\u001b[0;31mAttributeError\u001b[0m                            Traceback (most recent call last)",
      "\u001b[0;32m<ipython-input-105-1d8dfcc906a8>\u001b[0m in \u001b[0;36m<module>\u001b[0;34m()\u001b[0m\n\u001b[1;32m      3\u001b[0m \u001b[0mil\u001b[0m \u001b[0;34m=\u001b[0m \u001b[0minput_layer\u001b[0m\u001b[0;34m(\u001b[0m\u001b[0;34m[\u001b[0m\u001b[0;36m2\u001b[0m\u001b[0;34m,\u001b[0m\u001b[0;36m1\u001b[0m\u001b[0;34m,\u001b[0m\u001b[0;36m1\u001b[0m\u001b[0;34m]\u001b[0m\u001b[0;34m)\u001b[0m\u001b[0;34m\u001b[0m\u001b[0m\n\u001b[1;32m      4\u001b[0m \u001b[0;34m\u001b[0m\u001b[0m\n\u001b[0;32m----> 5\u001b[0;31m \u001b[0mol\u001b[0m\u001b[0;34m.\u001b[0m\u001b[0mconnect_layer\u001b[0m\u001b[0;34m(\u001b[0m\u001b[0mhl\u001b[0m\u001b[0;34m)\u001b[0m\u001b[0;34m\u001b[0m\u001b[0m\n\u001b[0m\u001b[1;32m      6\u001b[0m \u001b[0mhl\u001b[0m\u001b[0;34m.\u001b[0m\u001b[0mconnect_layer\u001b[0m\u001b[0;34m(\u001b[0m\u001b[0mil\u001b[0m\u001b[0;34m)\u001b[0m\u001b[0;34m\u001b[0m\u001b[0m\n\u001b[1;32m      7\u001b[0m \u001b[0;34m\u001b[0m\u001b[0m\n",
      "\u001b[0;32m<ipython-input-103-dc707ebbb9ba>\u001b[0m in \u001b[0;36mconnect_layer\u001b[0;34m(self, prev_layer)\u001b[0m\n\u001b[1;32m     39\u001b[0m     \u001b[0;32mdef\u001b[0m \u001b[0mconnect_layer\u001b[0m\u001b[0;34m(\u001b[0m\u001b[0mself\u001b[0m\u001b[0;34m,\u001b[0m \u001b[0mprev_layer\u001b[0m\u001b[0;34m)\u001b[0m\u001b[0;34m:\u001b[0m\u001b[0;34m\u001b[0m\u001b[0m\n\u001b[1;32m     40\u001b[0m         \u001b[0mself\u001b[0m\u001b[0;34m.\u001b[0m\u001b[0mprev_layer\u001b[0m \u001b[0;34m=\u001b[0m \u001b[0mprev_layer\u001b[0m\u001b[0;34m\u001b[0m\u001b[0m\n\u001b[0;32m---> 41\u001b[0;31m         \u001b[0mprev_layer\u001b[0m\u001b[0;34m.\u001b[0m\u001b[0mset_next_layer\u001b[0m\u001b[0;34m(\u001b[0m\u001b[0mself\u001b[0m\u001b[0;34m)\u001b[0m\u001b[0;34m\u001b[0m\u001b[0m\n\u001b[0m\u001b[1;32m     42\u001b[0m         \u001b[0mnumEdges\u001b[0m \u001b[0;34m=\u001b[0m \u001b[0mprev_layer\u001b[0m\u001b[0;34m.\u001b[0m\u001b[0mN\u001b[0m \u001b[0;34m*\u001b[0m \u001b[0mself\u001b[0m\u001b[0;34m.\u001b[0m\u001b[0mN\u001b[0m\u001b[0;34m\u001b[0m\u001b[0m\n\u001b[1;32m     43\u001b[0m         \u001b[0;32mfor\u001b[0m \u001b[0mn\u001b[0m \u001b[0;32min\u001b[0m \u001b[0mself\u001b[0m\u001b[0;34m.\u001b[0m\u001b[0mneurons\u001b[0m\u001b[0;34m:\u001b[0m\u001b[0;34m\u001b[0m\u001b[0m\n",
      "\u001b[0;31mAttributeError\u001b[0m: 'neuron_layer' object has no attribute 'set_next_layer'"
     ]
    }
   ],
   "source": [
    "hl = neuron_layer(2)\n",
    "ol = neuron_layer(1)\n",
    "il = input_layer([2,1,1])\n",
    "\n",
    "ol.connect_layer(hl)\n",
    "hl.connect_layer(il)\n",
    " \n",
    "x = np.array([1,1])\n",
    "    \n",
    "y = il.compute_layer(x)\n",
    "y1 = hl.compute_layer()"
   ]
  },
  {
   "cell_type": "code",
   "execution_count": 119,
   "metadata": {
    "collapsed": true
   },
   "outputs": [],
   "source": [
    "x = [1,1,1,1,1,1,1]"
   ]
  },
  {
   "cell_type": "code",
   "execution_count": 124,
   "metadata": {
    "collapsed": false
   },
   "outputs": [],
   "source": [
    "nn1 = ANN(5, x, [2,3,4])"
   ]
  },
  {
   "cell_type": "code",
   "execution_count": 125,
   "metadata": {
    "collapsed": false
   },
   "outputs": [
    {
     "data": {
      "text/plain": [
       "<__main__.hidden_layer at 0x7f082eb22358>"
      ]
     },
     "execution_count": 125,
     "metadata": {},
     "output_type": "execute_result"
    }
   ],
   "source": [
    "nn1.hidden_layers[0].next_layer"
   ]
  },
  {
   "cell_type": "code",
   "execution_count": 122,
   "metadata": {
    "collapsed": false
   },
   "outputs": [
    {
     "data": {
      "text/plain": [
       "array([ 0.76774596,  0.8413687 ,  0.01308038,  0.54138358,  0.24054085,\n",
       "        0.80310769,  0.97148677])"
      ]
     },
     "execution_count": 122,
     "metadata": {},
     "output_type": "execute_result"
    }
   ],
   "source": [
    "nn1.output_layer.neurons[0].w"
   ]
  },
  {
   "cell_type": "code",
   "execution_count": 11,
   "metadata": {
    "collapsed": false
   },
   "outputs": [
    {
     "data": {
      "text/plain": [
       "array([-0.40810821, -0.70716352])"
      ]
     },
     "execution_count": 11,
     "metadata": {},
     "output_type": "execute_result"
    }
   ],
   "source": [
    "ol.w"
   ]
  },
  {
   "cell_type": "code",
   "execution_count": 12,
   "metadata": {
    "collapsed": false
   },
   "outputs": [
    {
     "data": {
      "text/plain": [
       "array([-0.09764534, -0.90863829, -0.10203447,  0.84799126])"
      ]
     },
     "execution_count": 12,
     "metadata": {},
     "output_type": "execute_result"
    }
   ],
   "source": [
    "hl.w"
   ]
  },
  {
   "cell_type": "code",
   "execution_count": null,
   "metadata": {
    "collapsed": true
   },
   "outputs": [],
   "source": []
  }
 ],
 "metadata": {
  "kernelspec": {
   "display_name": "Python 3",
   "language": "python",
   "name": "python3"
  },
  "language_info": {
   "codemirror_mode": {
    "name": "ipython",
    "version": 3
   },
   "file_extension": ".py",
   "mimetype": "text/x-python",
   "name": "python",
   "nbconvert_exporter": "python",
   "pygments_lexer": "ipython3",
   "version": "3.5.2"
  }
 },
 "nbformat": 4,
 "nbformat_minor": 2
}
