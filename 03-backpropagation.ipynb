{
 "cells": [
  {
   "cell_type": "code",
   "execution_count": 12,
   "metadata": {
    "collapsed": false
   },
   "outputs": [],
   "source": [
    "# Import libraries\n",
    "%matplotlib inline\n",
    "from sklearn import datasets\n",
    "import matplotlib.pyplot as plt\n",
    "import numpy as np\n",
    "\n",
    "training_data = [\n",
    "    np.array([0,0,1]),\n",
    "    np.array([0,1,1]),\n",
    "    np.array([1,0,1]),\n",
    "    np.array([1,1,1]),\n",
    "]\n",
    "\n",
    "target = [0,1,1,0]\n",
    "\n",
    "w = np.random.rand(3) # Initializing weights randomly.\n",
    "errors = []\n",
    "eta = 0.2 # Learning rate\n",
    "n = 100 # Number of iterations"
   ]
  },
  {
   "cell_type": "code",
   "execution_count": 371,
   "metadata": {
    "collapsed": false
   },
   "outputs": [],
   "source": [
    "class ANN:\n",
    "    ''' This is an artificial neural network'''\n",
    "    def __init__(self, numLayers, Input, hiddenNeuronList=[]):\n",
    "        self.numLayers = numLayers\n",
    "        self.numHiddenLayers = numLayers - 2\n",
    "        \n",
    "        if not len(hiddenNeuronList):\n",
    "            self.hiddenNeuronList = [len(Input)]*self.numHiddenLayers ## Should be changed later to something more general\n",
    "        else:\n",
    "            self.hiddenNeuronList = hiddenNeuronList\n",
    "            \n",
    "        self.construct_network(Input)\n",
    "        self.connect_layers()\n",
    "            \n",
    "    def construct_network(self,Input):\n",
    "        # Input layer Stuff\n",
    "        self.input_layer = input_layer(Input)\n",
    "        \n",
    "        # Create Hidden Layers\n",
    "        self.hidden_layers = [hidden_layer(self.hiddenNeuronList[i]) for i in range(self.numHiddenLayers)]\n",
    "        \n",
    "        # Create output layer\n",
    "        self.output_layer = output_layer(1)\n",
    "        \n",
    "        self.layers = [self.input_layer] + self.hidden_layers + [self.output_layer]\n",
    "\n",
    "    def connect_layers(self):\n",
    "        '''Connect layers'''\n",
    "        # Input layer\n",
    "        self.hidden_layers[0].connect_layer(self.input_layer)\n",
    "        # Hidden layers\n",
    "        for n in range(self.numHiddenLayers-1):\n",
    "            self.hidden_layers[n+1].connect_layer(self.hidden_layers[n])\n",
    "        # Output layer\n",
    "        self.output_layer.connect_layer(self.hidden_layers[-1])\n",
    "    \n",
    "    def error_function(t,o):\n",
    "        '''This is the error function'''\n",
    "        return 1/2*((t-o)**2)\n",
    "\n",
    "    def update_weights(self, target):\n",
    "        self.output_layer.backpropagate(target)\n",
    "        for layer in self.hidden_layers[::-1]:\n",
    "            layer.backpropagate()\n",
    "            \n",
    "        for layer in self.layers[::-2]:\n",
    "            layer.update()\n",
    "\n",
    "            \n",
    "class neuron_layer:\n",
    "    ''' This is a neural network layer'''\n",
    "\n",
    "    def __init__(self, N):\n",
    "        self.N = N\n",
    "        self.neurons = [neuron(self) for i in range(N)]\n",
    "\n",
    "    def connect_layer(self, prev_layer):\n",
    "        self.prev_layer = prev_layer\n",
    "        prev_layer.set_next_layer(self)\n",
    "        numEdges = prev_layer.N * self.N\n",
    "        for n in self.neurons:\n",
    "            n.initialize_weights(prev_layer.N)\n",
    "        \n",
    "    def compute_layer(self):\n",
    "        y = []\n",
    "        for n in self.neurons:\n",
    "            y.append(n.compute(self.prev_layer.output))\n",
    "        self.output = y\n",
    "        return self.output\n",
    "    \n",
    "\n",
    "class input_layer(neuron_layer):\n",
    "    ''' This is the input layer'''\n",
    "\n",
    "    def __init__(self, Input):\n",
    "        self.N = len(Input)\n",
    "        self.output = self.compute_layer(Input)\n",
    "    \n",
    "    def compute_layer(self,x):\n",
    "        return np.array(x)\n",
    "    \n",
    "    def set_next_layer(self, next_layer):\n",
    "        self.next_layer = next_layer\n",
    "\n",
    "class hidden_layer(neuron_layer):\n",
    "    def set_next_layer(self, next_layer):\n",
    "        self.next_layer = next_layer\n",
    "        \n",
    "    def backpropagate(self):\n",
    "        self.delta = []\n",
    "        next_delta = self.next_layer.delta\n",
    "        for i,neuron in enumerate(self.neurons):\n",
    "            # self.delta.append(neuron.get_delta(target[i]))\n",
    "            wkj = []\n",
    "            for n in self.next_layer.neurons:\n",
    "                wkj.append(n.w[i]) \n",
    "            self.delta.append(neuron.output * (1 - neuron.output) * np.dot(next_delta, np.array(wkj)))        \n",
    "            \n",
    "    def update(self):\n",
    "        for i,neuron in enumerate(self.neurons):            \n",
    "            neuron.change_weight(neuron.w + np.array(self.delta[i])*self.prev_layer.output)\n",
    "            \n",
    "            \n",
    "class output_layer(neuron_layer):\n",
    "    def backpropagate(self,target):\n",
    "        self.delta = []\n",
    "        for i,neuron in enumerate(self.neurons):\n",
    "            # self.delta.append(neuron.get_delta(target[i]))\n",
    "            self.delta.append((target[i] - neuron.output) * neuron.output * (1 - neuron.output))\n",
    "            \n",
    "    def update(self):\n",
    "        for i,neuron in enumerate(self.neurons):            \n",
    "            neuron.change_weight(neuron.w + np.array(self.delta[i])*self.prev_layer.output)\n",
    "            \n",
    "\n",
    "class neuron:\n",
    "    '''Units inside a layer'''\n",
    "    \n",
    "    def __init__(self, layer):\n",
    "        self.layer = layer\n",
    "\n",
    "    def initialize_weights(self, numInputs):\n",
    "        self.w = np.random.uniform(-1,1,numInputs)\n",
    "        #self.w = np.zeros(numInputs) # Just for kicks\n",
    "    def sigmoid(self,x):\n",
    "        ''' This is our activation function. '''    \n",
    "        return 1/(1+np.exp(-x))\n",
    "    def compute(self,x):\n",
    "        self.output=self.sigmoid(np.dot(self.w,x))  \n",
    "        return self.output\n",
    "    def change_weight(self,w):\n",
    "        self.w = w        \n",
    "    #def get_delta(target):\n",
    "    #    delta = (self.output - target) * self.output * (1 - self.output)"
   ]
  },
  {
   "cell_type": "code",
   "execution_count": 372,
   "metadata": {
    "collapsed": true
   },
   "outputs": [],
   "source": [
    "x = [1,1]"
   ]
  },
  {
   "cell_type": "code",
   "execution_count": 373,
   "metadata": {
    "collapsed": false
   },
   "outputs": [],
   "source": [
    "nn1 = ANN(3, x)"
   ]
  },
  {
   "cell_type": "code",
   "execution_count": 374,
   "metadata": {
    "collapsed": false
   },
   "outputs": [
    {
     "data": {
      "text/plain": [
       "[0.57984464093971788, 0.70026139985668956]"
      ]
     },
     "execution_count": 374,
     "metadata": {},
     "output_type": "execute_result"
    }
   ],
   "source": [
    "nn1.hidden_layers[0].compute_layer()"
   ]
  },
  {
   "cell_type": "code",
   "execution_count": 375,
   "metadata": {
    "collapsed": false
   },
   "outputs": [
    {
     "data": {
      "text/plain": [
       "[0.38928241952863957]"
      ]
     },
     "execution_count": 375,
     "metadata": {},
     "output_type": "execute_result"
    }
   ],
   "source": [
    "nn1.output_layer.compute_layer()"
   ]
  },
  {
   "cell_type": "code",
   "execution_count": 376,
   "metadata": {
    "collapsed": false
   },
   "outputs": [
    {
     "data": {
      "text/plain": [
       "array([-0.14289213, -0.52476732])"
      ]
     },
     "execution_count": 376,
     "metadata": {},
     "output_type": "execute_result"
    }
   ],
   "source": [
    "nn1.output_layer.neurons[0].w"
   ]
  },
  {
   "cell_type": "code",
   "execution_count": 377,
   "metadata": {
    "collapsed": false
   },
   "outputs": [
    {
     "data": {
      "text/plain": [
       "array([ 0.58824684, -0.26611118])"
      ]
     },
     "execution_count": 377,
     "metadata": {},
     "output_type": "execute_result"
    }
   ],
   "source": [
    "nn1.hidden_layers[0].neurons[0].w"
   ]
  },
  {
   "cell_type": "code",
   "execution_count": 378,
   "metadata": {
    "collapsed": false
   },
   "outputs": [
    {
     "data": {
      "text/plain": [
       "array([ 0.76949103,  0.0790519 ])"
      ]
     },
     "execution_count": 378,
     "metadata": {},
     "output_type": "execute_result"
    }
   ],
   "source": [
    "nn1.hidden_layers[0].neurons[1].w"
   ]
  },
  {
   "cell_type": "code",
   "execution_count": 379,
   "metadata": {
    "collapsed": false
   },
   "outputs": [],
   "source": [
    "nn1.output_layer.backpropagate([1])"
   ]
  },
  {
   "cell_type": "code",
   "execution_count": 380,
   "metadata": {
    "collapsed": false
   },
   "outputs": [],
   "source": [
    "nn1.hidden_layers[0].backpropagate()"
   ]
  },
  {
   "cell_type": "code",
   "execution_count": 369,
   "metadata": {
    "collapsed": false
   },
   "outputs": [
    {
     "ename": "AttributeError",
     "evalue": "'output_layer' object has no attribute 'delta'",
     "output_type": "error",
     "traceback": [
      "\u001b[0;31m---------------------------------------------------------------------------\u001b[0m",
      "\u001b[0;31mAttributeError\u001b[0m                            Traceback (most recent call last)",
      "\u001b[0;32m<ipython-input-369-47192c840025>\u001b[0m in \u001b[0;36m<module>\u001b[0;34m()\u001b[0m\n\u001b[0;32m----> 1\u001b[0;31m \u001b[0mnn1\u001b[0m\u001b[0;34m.\u001b[0m\u001b[0moutput_layer\u001b[0m\u001b[0;34m.\u001b[0m\u001b[0mdelta\u001b[0m\u001b[0;34m\u001b[0m\u001b[0m\n\u001b[0m",
      "\u001b[0;31mAttributeError\u001b[0m: 'output_layer' object has no attribute 'delta'"
     ]
    }
   ],
   "source": [
    "nn1.output_layer.delta"
   ]
  },
  {
   "cell_type": "code",
   "execution_count": 365,
   "metadata": {
    "collapsed": false
   },
   "outputs": [],
   "source": [
    "nn1.output_layer.update()"
   ]
  },
  {
   "cell_type": "code",
   "execution_count": 366,
   "metadata": {
    "collapsed": false
   },
   "outputs": [
    {
     "data": {
      "text/plain": [
       "array([ 0.10462606,  0.9666644 ])"
      ]
     },
     "execution_count": 366,
     "metadata": {},
     "output_type": "execute_result"
    }
   ],
   "source": [
    "nn1.output_layer.neurons[0].w"
   ]
  },
  {
   "cell_type": "code",
   "execution_count": 367,
   "metadata": {
    "collapsed": false
   },
   "outputs": [
    {
     "data": {
      "text/plain": [
       "[0.67956959623988367, 0.80592836608744345]"
      ]
     },
     "execution_count": 367,
     "metadata": {},
     "output_type": "execute_result"
    }
   ],
   "source": [
    "nn1.hidden_layers[0].compute_layer()"
   ]
  },
  {
   "cell_type": "code",
   "execution_count": 393,
   "metadata": {
    "collapsed": false
   },
   "outputs": [
    {
     "data": {
      "text/plain": [
       "[<matplotlib.lines.Line2D at 0x7fa775e6ba58>]"
      ]
     },
     "execution_count": 393,
     "metadata": {},
     "output_type": "execute_result"
    },
    {
     "data": {
      "image/png": "[encoded data removed]",
      "text/plain": [
       "<matplotlib.figure.Figure at 0x7fa775f31668>"
      ]
     },
     "metadata": {},
     "output_type": "display_data"
    }
   ],
   "source": [
    "training_data = [\n",
    "    np.array([0,0,1]),\n",
    "    np.array([0,1,1]),\n",
    "    np.array([1,0,1]),\n",
    "    np.array([1,1,1]),\n",
    "]\n",
    "\n",
    "target = [0,1,1,0]\n",
    "\n",
    "nn1 = ANN(3, x)\n",
    "deltaVec = []\n",
    "for i in range(1000):\n",
    "    \n",
    "    nn1.hidden_layers[0].compute_layer()\n",
    "    deltaVec.append(nn1.output_layer.compute_layer())        \n",
    "    nn1.output_layer.backpropagate([1])\n",
    "    nn1.hidden_layers[0].backpropagate()    \n",
    "    nn1.output_layer.delta\n",
    "    nn1.hidden_layers[0].delta\n",
    "    nn1.output_layer.update()\n",
    "    nn1.hidden_layers[0].update()\n",
    "plt.plot(range(len(deltaVec)), deltaVec)"
   ]
  },
  {
   "cell_type": "code",
   "execution_count": 392,
   "metadata": {
    "collapsed": false
   },
   "outputs": [
    {
     "name": "stdout",
     "output_type": "stream",
     "text": [
      "[0.97683112034037956]\n"
     ]
    }
   ],
   "source": [
    "print (deltaVec[-1])"
   ]
  },
  {
   "cell_type": "code",
   "execution_count": null,
   "metadata": {
    "collapsed": true
   },
   "outputs": [],
   "source": []
  },
  {
   "cell_type": "code",
   "execution_count": null,
   "metadata": {
    "collapsed": true
   },
   "outputs": [],
   "source": []
  },
  {
   "cell_type": "code",
   "execution_count": null,
   "metadata": {
    "collapsed": true
   },
   "outputs": [],
   "source": []
  },
  {
   "cell_type": "code",
   "execution_count": null,
   "metadata": {
    "collapsed": true
   },
   "outputs": [],
   "source": []
  },
  {
   "cell_type": "code",
   "execution_count": null,
   "metadata": {
    "collapsed": true
   },
   "outputs": [],
   "source": []
  },
  {
   "cell_type": "code",
   "execution_count": null,
   "metadata": {
    "collapsed": true
   },
   "outputs": [],
   "source": []
  },
  {
   "cell_type": "code",
   "execution_count": null,
   "metadata": {
    "collapsed": true
   },
   "outputs": [],
   "source": []
  },
  {
   "cell_type": "code",
   "execution_count": null,
   "metadata": {
    "collapsed": true
   },
   "outputs": [],
   "source": []
  },
  {
   "cell_type": "code",
   "execution_count": null,
   "metadata": {
    "collapsed": true
   },
   "outputs": [],
   "source": []
  }
 ],
 "metadata": {
  "kernelspec": {
   "display_name": "Python 3",
   "language": "python",
   "name": "python3"
  },
  "language_info": {
   "codemirror_mode": {
    "name": "ipython",
    "version": 3
   },
   "file_extension": ".py",
   "mimetype": "text/x-python",
   "name": "python",
   "nbconvert_exporter": "python",
   "pygments_lexer": "ipython3",
   "version": "3.5.2"
  }
 },
 "nbformat": 4,
 "nbformat_minor": 2
}
