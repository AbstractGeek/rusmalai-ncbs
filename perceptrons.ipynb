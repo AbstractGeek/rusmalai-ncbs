{
 "cells": [
  {
   "cell_type": "markdown",
   "metadata": {},
   "source": [
    "# Perceptrons"
   ]
  },
  {
   "cell_type": "code",
   "execution_count": 37,
   "metadata": {
    "collapsed": true
   },
   "outputs": [],
   "source": [
    "# Import libraries\n",
    "%matplotlib inline\n",
    "from sklearn import datasets\n",
    "import matplotlib.pyplot as plt\n",
    "import numpy as np"
   ]
  },
  {
   "cell_type": "code",
   "execution_count": 38,
   "metadata": {
    "collapsed": false
   },
   "outputs": [],
   "source": [
    "# import some data to play with\n",
    "iris = datasets.load_iris()\n",
    "X = iris.data[:100,:2]  # we only take the first two features.\n",
    "Y = iris.target[:100]"
   ]
  },
  {
   "cell_type": "markdown",
   "metadata": {},
   "source": [
    "### Line separating the features. Change this to get lines separating the features"
   ]
  },
  {
   "cell_type": "code",
   "execution_count": 39,
   "metadata": {
    "collapsed": true
   },
   "outputs": [],
   "source": [
    "# Line parameters\n",
    "m = 0  # Slope\n",
    "c = 2  # Intercept\n",
    "\n",
    "# Creating line\n",
    "x1 = np.linspace(np.min(X[:,0]), np.max(X[:,0]), 100)\n",
    "y1 = m*x1 + c"
   ]
  },
  {
   "cell_type": "markdown",
   "metadata": {},
   "source": [
    "### Let's plot this!"
   ]
  },
  {
   "cell_type": "code",
   "execution_count": 40,
   "metadata": {
    "collapsed": false
   },
   "outputs": [
    {
     "data": {
      "text/plain": [
       "<matplotlib.text.Text at 0x7f4e2e7ea610>"
      ]
     },
     "execution_count": 40,
     "metadata": {},
     "output_type": "execute_result"
    },
    {
     "data": {
      "image/png": "[encoded data removed]",
      "text/plain": [
       "<matplotlib.figure.Figure at 0x7f4e2ec65c10>"
      ]
     },
     "metadata": {},
     "output_type": "display_data"
    }
   ],
   "source": [
    "plt.figure(2, figsize=(8, 6))\n",
    "plt.clf()\n",
    "\n",
    "# Plot the training points\n",
    "plt.scatter(X[:, 0], X[:, 1], c=Y, cmap=plt.cm.Paired)\n",
    "plt.plot(x1,y1)\n",
    "plt.xlabel('Sepal length')\n",
    "plt.ylabel('Sepal width')"
   ]
  },
  {
   "cell_type": "code",
   "execution_count": 41,
   "metadata": {
    "collapsed": false
   },
   "outputs": [],
   "source": [
    "# Create perceptron\n",
    "threshold = 1\n",
    "\n",
    "# Get weights using the line equations from above\n",
    "w2 = threshold / c\n",
    "w1 = -1 * w2 * m\n",
    "\n",
    "# Perceptron calculation\n",
    "plant_class = ((X[:,0] * w1 + X[:,1] * w2) > threshold) + 0\n",
    "\n",
    "# Compare\n",
    "correctly_classified = np.all(plant_class == Y)\n"
   ]
  },
  {
   "cell_type": "code",
   "execution_count": 42,
   "metadata": {
    "collapsed": false
   },
   "outputs": [
    {
     "data": {
      "text/plain": [
       "False"
      ]
     },
     "execution_count": 42,
     "metadata": {},
     "output_type": "execute_result"
    }
   ],
   "source": [
    "correctly_classified"
   ]
  },
  {
   "cell_type": "markdown",
   "metadata": {},
   "source": [
    "### A real perceptron"
   ]
  },
  {
   "cell_type": "code",
   "execution_count": 43,
   "metadata": {
    "collapsed": false
   },
   "outputs": [
    {
     "name": "stdout",
     "output_type": "stream",
     "text": [
      "[0 0]: 0.133950529264 -> 0\n",
      "[0 1]: 0.970928541087 -> 1\n",
      "[1 0]: 0.449833020953 -> 1\n",
      "[1 1]: 1.28681103278 -> 1\n"
     ]
    }
   ],
   "source": [
    "from random import choice\n",
    "from numpy import array, dot, random\n",
    "\n",
    "def unit_step(x,theta):\n",
    "    ''' This is our activation function. '''\n",
    "    fx = 0\n",
    "    if x < theta:\n",
    "        fx= 0\n",
    "    else:\n",
    "        fx= 1\n",
    "    return fx\n",
    "\n",
    "training_data = [\n",
    "    array([0,0,1]),\n",
    "    array([0,1,1]),\n",
    "    array([1,0,1]),\n",
    "    array([1,1,1]),\n",
    "]\n",
    "\n",
    "target = [0,1,1,1]\n",
    "\n",
    "w = random.rand(3) # Initializing weights randomly.\n",
    "errors = []\n",
    "eta = 0.2 # Learning rate\n",
    "n = 100 # Number of iterations\n",
    "theta = 0.25 # Threshold\n",
    "\n",
    "for i in xrange(n):\n",
    "    x, expected = choice(zip(training_data,target))\n",
    "    result = dot(w, x)\n",
    "    error = expected - unit_step(result,theta)\n",
    "    errors.append(error)\n",
    "    w += eta * error * x\n",
    "\n",
    "for x, _ in zip(training_data,target):\n",
    "    result = dot(x, w)\n",
    "    print(\"{}: {} -> {}\".format(x[:2], result, unit_step(result,theta)))"
   ]
  },
  {
   "cell_type": "code",
   "execution_count": 44,
   "metadata": {
    "collapsed": false
   },
   "outputs": [
    {
     "data": {
      "text/plain": [
       "[<matplotlib.lines.Line2D at 0x7f4e2e6da810>]"
      ]
     },
     "execution_count": 44,
     "metadata": {},
     "output_type": "execute_result"
    },
    {
     "data": {
      "image/png": "[encoded data removed]",
      "text/plain": [
       "<matplotlib.figure.Figure at 0x7f4e2ec65510>"
      ]
     },
     "metadata": {},
     "output_type": "display_data"
    }
   ],
   "source": [
    "from pylab import plot, ylim\n",
    "ylim([-1,1])\n",
    "plot(errors)"
   ]
  },
  {
   "cell_type": "code",
   "execution_count": 63,
   "metadata": {
    "collapsed": false
   },
   "outputs": [
    {
     "data": {
      "text/plain": [
       "(0, 1)"
      ]
     },
     "execution_count": 63,
     "metadata": {},
     "output_type": "execute_result"
    },
    {
     "data": {
      "image/png": "[encoded data removed]",
      "text/plain": [
       "<matplotlib.figure.Figure at 0x7f4e2e452150>"
      ]
     },
     "metadata": {},
     "output_type": "display_data"
    }
   ],
   "source": [
    "k = np.linspace(0,1,100)\n",
    "plt.plot(k,-(w[0]/w[1])*k + theta/w[1])\n",
    "plt.xlim((0,1))\n",
    "plt.ylim((0,1))"
   ]
  },
  {
   "cell_type": "markdown",
   "metadata": {},
   "source": [
    "### Let's use it for Iris!"
   ]
  },
  {
   "cell_type": "code",
   "execution_count": 59,
   "metadata": {
    "collapsed": false
   },
   "outputs": [
    {
     "name": "stdout",
     "output_type": "stream",
     "text": [
      "[ 5.1  3.5]: -0.965646602575 -> 0\n",
      "[ 4.9  3. ]: -0.387295630712 -> 0\n",
      "[ 4.7  3.2]: -0.866420360257 -> 0\n",
      "[ 4.6  3.1]: -0.803846810342 -> 0\n",
      "[ 5.   3.6]: -1.20520896735 -> 0\n",
      "[ 5.4  3.9]: -1.30443520967 -> 0\n",
      "[ 4.6  3.4]: -1.25705068237 -> 0\n",
      "[ 5.   3.4]: -0.90307305266 -> 0\n",
      "[ 4.4  2.9]: -0.678699710511 -> 0\n",
      "[ 4.9  3.1]: -0.538363588056 -> 0\n",
      "[ 5.4  3.7]: -1.00229929498 -> 0\n",
      "[ 4.8  3.4]: -1.08006186752 -> 0\n",
      "[ 4.8  3. ]: -0.47579003814 -> 0\n",
      "[ 4.3  3. ]: -0.918262075284 -> 0\n",
      "[ 5.8  4. ]: -1.10152553729 -> 0\n",
      "[ 5.7  4.4]: -1.7942917741 -> 0\n",
      "[ 5.4  3.9]: -1.30443520967 -> 0\n",
      "[ 5.1  3.5]: -0.965646602575 -> 0\n",
      "[ 5.7  3.8]: -0.887884030035 -> 0\n",
      "[ 5.1  3.8]: -1.41885047461 -> 0\n",
      "[ 5.4  3.4]: -0.549095422945 -> 0\n",
      "[ 5.1  3.7]: -1.26778251726 -> 0\n",
      "[ 4.6  3.6]: -1.55918659706 -> 0\n",
      "[ 5.1  3.3]: -0.663510687887 -> 0\n",
      "[ 4.8  3.4]: -1.08006186752 -> 0\n",
      "[ 5.  3.]: -0.298801223283 -> 0\n",
      "[ 5.   3.4]: -0.90307305266 -> 0\n",
      "[ 5.2  3.5]: -0.877152195146 -> 0\n",
      "[ 5.2  3.4]: -0.726084237802 -> 0\n",
      "[ 4.7  3.2]: -0.866420360257 -> 0\n",
      "[ 4.8  3.1]: -0.626857995485 -> 0\n",
      "[ 5.4  3.4]: -0.549095422945 -> 0\n",
      "[ 5.2  4.1]: -1.78355993921 -> 0\n",
      "[ 5.5  4.2]: -1.66914467427 -> 0\n",
      "[ 4.9  3.1]: -0.538363588056 -> 0\n",
      "[ 5.   3.2]: -0.600937137971 -> 0\n",
      "[ 5.5  3.5]: -0.61166897286 -> 0\n",
      "[ 4.9  3.1]: -0.538363588056 -> 0\n",
      "[ 4.4  3. ]: -0.829767667855 -> 0\n",
      "[ 5.1  3.4]: -0.814578645231 -> 0\n",
      "[ 5.   3.5]: -1.05414101 -> 0\n",
      "[ 4.5  2.3]: 0.316202440983 -> 1\n",
      "[ 4.4  3.2]: -1.13190358254 -> 0\n",
      "[ 5.   3.5]: -1.05414101 -> 0\n",
      "[ 5.1  3.8]: -1.41885047461 -> 0\n",
      "[ 4.8  3. ]: -0.47579003814 -> 0\n",
      "[ 5.1  3.8]: -1.41885047461 -> 0\n",
      "[ 4.6  3.2]: -0.954914767686 -> 0\n",
      "[ 5.3  3.7]: -1.09079370241 -> 0\n",
      "[ 5.   3.3]: -0.752005095315 -> 0\n",
      "[ 7.   3.2]: 1.1689510106 -> 1\n",
      "[ 6.4  3.2]: 0.637984566031 -> 1\n",
      "[ 6.9  3.1]: 1.23152456052 -> 1\n",
      "[ 5.5  2.3]: 1.20114651527 -> 1\n",
      "[ 6.5  2.8]: 1.33075080284 -> 1\n",
      "[ 5.7  2.8]: 0.622795543407 -> 1\n",
      "[ 6.3  3.3]: 0.398422201258 -> 1\n",
      "[ 4.9  2.4]: 0.519112113353 -> 1\n",
      "[ 6.6  2.9]: 1.26817725292 -> 1\n",
      "[ 5.2  2.7]: 0.331391463607 -> 1\n",
      "[ 5.  2.]: 1.21187835016 -> 1\n",
      "[ 5.9  3. ]: 0.497648443576 -> 1\n",
      "[ 6.   2.2]: 1.79468650976 -> 1\n",
      "[ 6.1  2.9]: 0.825705215778 -> 1\n",
      "[ 5.6  2.9]: 0.383233178634 -> 1\n",
      "[ 6.7  3.1]: 1.05453574566 -> 1\n",
      "[ 5.6  3. ]: 0.23216522129 -> 0\n",
      "[ 5.8  2.7]: 0.86235790818 -> 1\n",
      "[ 6.2  2.2]: 1.97167532462 -> 1\n",
      "[ 5.6  2.5]: 0.98750500801 -> 1\n",
      "[ 5.9  3.2]: 0.195512528887 -> 0\n",
      "[ 6.1  2.8]: 0.976773173122 -> 1\n",
      "[ 6.3  2.5]: 1.60696586001 -> 1\n",
      "[ 6.1  2.8]: 0.976773173122 -> 1\n",
      "[ 6.4  2.9]: 1.09118843806 -> 1\n",
      "[ 6.6  3. ]: 1.11710929558 -> 1\n",
      "[ 6.8  2.8]: 1.59623402512 -> 1\n",
      "[ 6.7  3. ]: 1.20560370301 -> 1\n",
      "[ 6.   2.9]: 0.737210808349 -> 1\n",
      "[ 5.7  2.6]: 0.924931458095 -> 1\n",
      "[ 5.5  2.4]: 1.05007855793 -> 1\n",
      "[ 5.5  2.4]: 1.05007855793 -> 1\n",
      "[ 5.8  2.7]: 0.86235790818 -> 1\n",
      "[ 6.   2.7]: 1.03934672304 -> 1\n",
      "[ 5.4  3. ]: 0.0551764064321 -> 0\n",
      "[ 6.   3.4]: -0.0181289783721 -> 0\n",
      "[ 6.7  3.1]: 1.05453574566 -> 1\n",
      "[ 6.3  2.3]: 1.9091017747 -> 1\n",
      "[ 5.6  3. ]: 0.23216522129 -> 0\n",
      "[ 5.5  2.5]: 0.899010600582 -> 1\n",
      "[ 5.5  2.6]: 0.747942643238 -> 1\n",
      "[ 6.1  3. ]: 0.674637258433 -> 1\n",
      "[ 5.8  2.6]: 1.01342586552 -> 1\n",
      "[ 5.   2.3]: 0.758674478126 -> 1\n",
      "[ 5.6  2.7]: 0.685369093322 -> 1\n",
      "[ 5.7  3. ]: 0.320659628718 -> 1\n",
      "[ 5.7  2.9]: 0.471727586063 -> 1\n",
      "[ 6.2  2.9]: 0.914199623206 -> 1\n",
      "[ 5.1  2.5]: 0.545032970867 -> 1\n",
      "[ 5.7  2.8]: 0.622795543407 -> 1\n"
     ]
    }
   ],
   "source": [
    "training_data = X\n",
    "\n",
    "training_data = [np.append(x,[1]) for x in training_data]\n",
    "target = Y\n",
    "w = random.rand(3) # Initializing weights randomly.\n",
    "errors = []\n",
    "eta = 0.2 # Learning rate\n",
    "n = 100 # Number of iterations\n",
    "theta = 0.25 # Threshold\n",
    "\n",
    "for i in xrange(n):\n",
    "    x, expected = choice(zip(training_data,target))\n",
    "    result = dot(w, x)\n",
    "    error = expected - unit_step(result,theta)\n",
    "    errors.append(error)\n",
    "    w += eta * error * x\n",
    "\n",
    "for x, _ in zip(training_data,target):\n",
    "    result = dot(x, w)\n",
    "    print(\"{}: {} -> {}\".format(x[:2], result, unit_step(result,theta)))"
   ]
  },
  {
   "cell_type": "code",
   "execution_count": 62,
   "metadata": {
    "collapsed": false
   },
   "outputs": [
    {
     "data": {
      "text/plain": [
       "<matplotlib.text.Text at 0x7f4e2e70fad0>"
      ]
     },
     "execution_count": 62,
     "metadata": {},
     "output_type": "execute_result"
    },
    {
     "data": {
      "image/png": "[encoded data removed]",
      "text/plain": [
       "<matplotlib.figure.Figure at 0x7f4e2e4524d0>"
      ]
     },
     "metadata": {},
     "output_type": "display_data"
    }
   ],
   "source": [
    "plt.scatter(X[:, 0], X[:, 1], c=Y, cmap=plt.cm.Paired)\n",
    "plt.plot(X[:,0],-(w[0]/w[1])*X[:,0] + theta/w[1])\n",
    "plt.xlabel('Sepal length')\n",
    "plt.ylabel('Sepal width')\n"
   ]
  }
 ],
 "metadata": {
  "kernelspec": {
   "display_name": "Python 2",
   "language": "python",
   "name": "python2"
  },
  "language_info": {
   "codemirror_mode": {
    "name": "ipython",
    "version": 2
   },
   "file_extension": ".py",
   "mimetype": "text/x-python",
   "name": "python",
   "nbconvert_exporter": "python",
   "pygments_lexer": "ipython2",
   "version": "2.7.12"
  }
 },
 "nbformat": 4,
 "nbformat_minor": 1
}
